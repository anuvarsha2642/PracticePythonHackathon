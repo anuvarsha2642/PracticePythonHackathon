{
 "cells": [
  {
   "cell_type": "markdown",
   "id": "241af450",
   "metadata": {},
   "source": [
    "60. Plot the Density Chart for visit times"
   ]
  },
  {
   "cell_type": "markdown",
   "id": "67b14ea9",
   "metadata": {},
   "source": [
    "61. np.arange(1,31).reshape(6,5) Find the array slicing to get the elements with values 11,12,16,17."
   ]
  },
  {
   "cell_type": "markdown",
   "id": "8bdabf05",
   "metadata": {},
   "source": [
    "62. what % of all patients with an outcome of \"Alive\" died within 28 days. What was the mean platelet volume among this group?"
   ]
  },
  {
   "cell_type": "code",
   "execution_count": 2,
   "id": "0e29712f",
   "metadata": {},
   "outputs": [
    {
     "ename": "SyntaxError",
     "evalue": "invalid syntax (3628633210.py, line 1)",
     "output_type": "error",
     "traceback": [
      "\u001b[1;36m  File \u001b[1;32m\"C:\\Users\\hrast\\AppData\\Local\\Temp\\ipykernel_17884\\3628633210.py\"\u001b[1;36m, line \u001b[1;32m1\u001b[0m\n\u001b[1;33m    63. find the patients who have 'h' in their DestinationDischarge and print them\u001b[0m\n\u001b[1;37m        ^\u001b[0m\n\u001b[1;31mSyntaxError\u001b[0m\u001b[1;31m:\u001b[0m invalid syntax\n"
     ]
    }
   ],
   "source": [
    "63. find the patients who have 'h' in their DestinationDischarge and print them\n"
   ]
  },
  {
   "cell_type": "code",
   "execution_count": null,
   "id": "782b3864",
   "metadata": {},
   "outputs": [],
   "source": []
  }
 ],
 "metadata": {
  "kernelspec": {
   "display_name": "Python 3 (ipykernel)",
   "language": "python",
   "name": "python3"
  },
  "language_info": {
   "codemirror_mode": {
    "name": "ipython",
    "version": 3
   },
   "file_extension": ".py",
   "mimetype": "text/x-python",
   "name": "python",
   "nbconvert_exporter": "python",
   "pygments_lexer": "ipython3",
   "version": "3.9.13"
  }
 },
 "nbformat": 4,
 "nbformat_minor": 5
}
